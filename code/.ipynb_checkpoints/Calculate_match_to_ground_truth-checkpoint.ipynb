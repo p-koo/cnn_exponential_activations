{
 "cells": [
  {
   "cell_type": "code",
   "execution_count": 1,
   "metadata": {},
   "outputs": [
    {
     "name": "stderr",
     "output_type": "stream",
     "text": [
      "/usr/local/lib/python2.7/dist-packages/h5py/__init__.py:36: FutureWarning: Conversion of the second argument of issubdtype from `float` to `np.floating` is deprecated. In future, it will be treated as `np.float64 == np.dtype(float).type`.\n",
      "  from ._conv import register_converters as _register_converters\n"
     ]
    }
   ],
   "source": [
    "from __future__ import absolute_import\n",
    "from __future__ import division\n",
    "from __future__ import print_function\n",
    "\n",
    "import os, sys\n",
    "import numpy as np\n",
    "import helper\n",
    "import pandas as pd\n",
    "import matplotlib.pyplot as plt\n",
    "%matplotlib inline\n",
    "\n",
    "from deepomics import utils"
   ]
  },
  {
   "cell_type": "code",
   "execution_count": 2,
   "metadata": {},
   "outputs": [],
   "source": [
    "def match_hits_to_ground_truth(file_path, motifs):\n",
    "    \n",
    "    # get dataframe for tomtom results\n",
    "    df = pd.read_csv(os.path.join(file_path), delimiter='\\t')\n",
    "    \n",
    "    # loop through filters\n",
    "    best_qvalues = np.ones(30)\n",
    "    best_match = np.zeros(30)\n",
    "    for name in np.unique(df['#Query ID'].as_matrix()):\n",
    "        filter_index = int(name.split('r')[1])\n",
    "\n",
    "        # get tomtom hits for filter\n",
    "        subdf = df.loc[df['#Query ID'] == name]\n",
    "        targets = subdf['Target ID'].as_matrix()\n",
    "\n",
    "        # loop through ground truth motifs\n",
    "        for k, motif in enumerate(motifs): \n",
    "\n",
    "            # loop through variations of ground truth motif\n",
    "            for motifid in motif: \n",
    "\n",
    "                # check if there is a match\n",
    "                index = np.where((targets == motifid) ==  True)[0]\n",
    "                if len(index) > 0:\n",
    "                    qvalue = subdf['q-value'].as_matrix()[index]\n",
    "\n",
    "                    # check to see if better motif hit, if so, update\n",
    "                    if best_qvalues[filter_index] > qvalue:\n",
    "                        best_qvalues[filter_index] = qvalue\n",
    "                        best_match[filter_index] = k \n",
    "\n",
    "    # get the minimum q-value for each motif\n",
    "    min_qvalue = np.zeros(13)\n",
    "    for i in range(13):\n",
    "        index = np.where(best_match == i)[0]\n",
    "        if len(index) > 0:\n",
    "            min_qvalue[i] = np.min(best_qvalues[index])\n",
    "\n",
    "    match_index = np.where(best_qvalues != 1)[0]\n",
    "    match_fraction = len(match_index)/30.\n",
    "\n",
    "    return best_qvalues, best_match, min_qvalue, match_fraction "
   ]
  },
  {
   "cell_type": "code",
   "execution_count": 3,
   "metadata": {},
   "outputs": [],
   "source": [
    "arid3 = ['MA0151.1', 'MA0601.1', 'PB0001.1']\n",
    "cebpb = ['MA0466.1', 'MA0466.2']\n",
    "fosl1 = ['MA0477.1']\n",
    "gabpa = ['MA0062.1', 'MA0062.2']\n",
    "mafk = ['MA0496.1', 'MA0496.2']\n",
    "max1 = ['MA0058.1', 'MA0058.2', 'MA0058.3']\n",
    "mef2a = ['MA0052.1', 'MA0052.2', 'MA0052.3']\n",
    "nfyb = ['MA0502.1', 'MA0060.1', 'MA0060.2']\n",
    "sp1 = ['MA0079.1', 'MA0079.2', 'MA0079.3']\n",
    "srf = ['MA0083.1', 'MA0083.2', 'MA0083.3']\n",
    "stat1 = ['MA0137.1', 'MA0137.2', 'MA0137.3', 'MA0660.1', 'MA0773.1']\n",
    "yy1 = ['MA0095.1', 'MA0095.2']\n",
    "\n",
    "motifs = [[''],arid3, cebpb, fosl1, gabpa, mafk, max1, mef2a, nfyb, sp1, srf, stat1, yy1]\n",
    "motifnames = [ '','arid3', 'cebpb', 'fosl1', 'gabpa', 'mafk', 'max', 'mef2a', 'nfyb', 'sp1', 'srf', 'stat1', 'yy1']"
   ]
  },
  {
   "cell_type": "code",
   "execution_count": 4,
   "metadata": {},
   "outputs": [],
   "source": [
    "all_models = ['distnet', 'cnn_50', 'cnn_2']\n",
    "activations = ['exp', 'relu']\n",
    "num_trials = 5\n",
    "\n",
    "# save path\n",
    "results_path = utils.make_directory('../results_exp', 'synthetic')\n",
    "save_path = utils.make_directory(results_path, 'conv_filters')"
   ]
  },
  {
   "cell_type": "code",
   "execution_count": 5,
   "metadata": {},
   "outputs": [],
   "source": [
    "\n",
    "results = {}\n",
    "results_match_fraction = {}\n",
    "for model_name in all_models:\n",
    "    for activation in activations:\n",
    "        name = model_name+'_'+activation\n",
    "        trial_qvalue = []\n",
    "        trial_match_fraction = []\n",
    "        for trial in range(num_trials):\n",
    "            file_path = os.path.join(save_path, name+'_'+str(trial), 'tomtom.txt')\n",
    "            best_qvalues, best_match, min_qvalue, match_fraction  = match_hits_to_ground_truth(file_path, motifs)\n",
    "            trial_qvalue.append(min_qvalue)\n",
    "            trial_match_fraction.append(match_fraction)\n",
    "            \n",
    "        results[name] = trial_qvalue\n",
    "        results_match_fraction[name] = trial_match_fraction"
   ]
  },
  {
   "cell_type": "code",
   "execution_count": 6,
   "metadata": {},
   "outputs": [
    {
     "name": "stdout",
     "output_type": "stream",
     "text": [
      "distnet_exp = 0.940 +/- 0.039\n",
      "cnn_50_exp = 0.913 +/- 0.034\n",
      "cnn_2_exp = 0.960 +/- 0.013\n",
      "distnet_relu = 0.000 +/- 0.000\n",
      "cnn_50_relu = 0.920 +/- 0.058\n",
      "cnn_2_relu = 0.007 +/- 0.013\n"
     ]
    }
   ],
   "source": [
    "\n",
    "for activation in activations:\n",
    "    for model_name in all_models:\n",
    "        name = model_name+'_'+activation\n",
    "        print(\"%s = %.3f +/- %.3f\"%(name, np.mean(results_match_fraction[name]), np.std(results_match_fraction[name])))\n",
    "        "
   ]
  },
  {
   "cell_type": "code",
   "execution_count": 7,
   "metadata": {},
   "outputs": [
    {
     "name": "stdout",
     "output_type": "stream",
     "text": [
      "distnet_exp & 0.940 +/- 0.039\n",
      "cnn_50_exp & 0.913 +/- 0.034\n",
      "cnn_2_exp & 0.960 +/- 0.013\n",
      "distnet_relu & 0.000 +/- 0.000\n",
      "cnn_50_relu & 0.920 +/- 0.058\n",
      "cnn_2_relu & 0.007 +/- 0.013\n"
     ]
    }
   ],
   "source": [
    "\n",
    "for activation in activations:\n",
    "    for model_name in all_models:\n",
    "        name = model_name+'_'+activation\n",
    "        print(\"%s & %.3f +/- %.3f\"%(name, np.mean(results_match_fraction[name]), np.std(results_match_fraction[name])))"
   ]
  },
  {
   "cell_type": "code",
   "execution_count": 8,
   "metadata": {},
   "outputs": [
    {
     "name": "stdout",
     "output_type": "stream",
     "text": [
      "[2.00553490e-03 2.66310080e-07 8.43188109e-10 7.76209151e-11\n",
      " 2.26660346e-15 1.10997891e-06 5.74113168e-09 7.82765494e-11\n",
      " 9.16655752e-12 1.98544420e-13 1.81885935e-05 6.79368040e-13]\n",
      "[1.88923221e-03 3.52005000e-07 8.84620340e-08 2.12964752e-05\n",
      " 1.81252258e-13 3.86547200e-08 1.13676736e-06 6.44438259e-11\n",
      " 2.27279510e-10 4.48076234e-16 2.12064162e-06 2.51619860e-11]\n",
      "[4.04764802e-04 1.07525480e-07 2.88710540e-09 6.49600073e-11\n",
      " 1.03781261e-16 2.55519200e-08 5.49592201e-07 2.01953620e-10\n",
      " 1.57111369e-13 1.15659142e-15 2.47498794e-07 6.49275100e-15]\n",
      "[0. 0. 0. 0. 0. 0. 0. 0. 0. 0. 0. 0.]\n",
      "[3.29373920e-03 5.04680240e-08 6.19917600e-09 7.95623081e-09\n",
      " 1.41265200e-06 9.35766891e-07 2.86086857e-07 6.07792124e-11\n",
      " 1.51325961e-15 2.82492830e-21 3.88436400e-07 1.35197288e-13]\n",
      "[0.0137524 0.        0.        0.        0.        0.        0.\n",
      " 0.        0.        0.        0.        0.       ]\n"
     ]
    }
   ],
   "source": [
    "\n",
    "for activation in activations:\n",
    "    for model_name in all_models:\n",
    "        name = model_name+'_'+activation\n",
    "        print(np.mean(np.array(results[name])[:,1:], axis=0))\n",
    "        "
   ]
  },
  {
   "cell_type": "code",
   "execution_count": 9,
   "metadata": {},
   "outputs": [
    {
     "name": "stdout",
     "output_type": "stream",
     "text": [
      "[1.  0.8 1.  0.8 0.8 0.8 1.  1.  1.  1.  1.  0.4]\n",
      "[1. 1. 1. 1. 1. 1. 1. 1. 1. 1. 1. 1.]\n",
      "[1.  1.  1.  1.  1.  0.6 1.  1.  1.  1.  1.  1. ]\n",
      "[0. 0. 0. 0. 0. 0. 0. 0. 0. 0. 0. 0.]\n",
      "[1.  1.  1.  1.  1.  1.  1.  0.8 1.  1.  1.  1. ]\n",
      "[0.2 0.  0.  0.  0.  0.  0.  0.  0.  0.  0.  0. ]\n"
     ]
    }
   ],
   "source": [
    "\n",
    "for activation in activations:\n",
    "    for model_name in all_models:\n",
    "        name = model_name+'_'+activation\n",
    "        print(np.sum(np.array(results[name])[:,1:] != 0, axis=0)/num_trials)\n",
    "        "
   ]
  },
  {
   "cell_type": "code",
   "execution_count": 21,
   "metadata": {},
   "outputs": [
    {
     "name": "stdout",
     "output_type": "stream",
     "text": [
      "distnet_exp = 0.953 +/- 0.016\n",
      "cnn_50_exp = 1.000 +/- 0.000\n",
      "cnn_2_exp = 0.987 +/- 0.016\n",
      "distnet_relu = 0.600 +/- 0.000\n",
      "cnn_50_relu = 0.993 +/- 0.013\n",
      "cnn_2_relu = 0.607 +/- 0.013\n"
     ]
    }
   ],
   "source": [
    "\n",
    "for activation in activations:\n",
    "    for model_name in all_models:\n",
    "        name = model_name+'_'+activation\n",
    "        percent_match = (30 - np.sum(np.array(results[name])[:,1:] == 0, axis=1))/30\n",
    "        print(\"%s = %.3f +/- %.3f\"%(name, np.mean(percent_match), np.std(percent_match)))\n",
    "        "
   ]
  },
  {
   "cell_type": "code",
   "execution_count": null,
   "metadata": {},
   "outputs": [],
   "source": []
  },
  {
   "cell_type": "code",
   "execution_count": null,
   "metadata": {},
   "outputs": [],
   "source": []
  },
  {
   "cell_type": "code",
   "execution_count": null,
   "metadata": {},
   "outputs": [],
   "source": []
  },
  {
   "cell_type": "code",
   "execution_count": null,
   "metadata": {},
   "outputs": [],
   "source": []
  },
  {
   "cell_type": "code",
   "execution_count": null,
   "metadata": {},
   "outputs": [],
   "source": []
  },
  {
   "cell_type": "code",
   "execution_count": null,
   "metadata": {},
   "outputs": [],
   "source": []
  },
  {
   "cell_type": "code",
   "execution_count": 101,
   "metadata": {},
   "outputs": [
    {
     "data": {
      "text/plain": [
       "[array([1., 0., 0., 0., 0., 0., 0., 0., 0., 0., 0., 0., 0.]),\n",
       " array([1.      , 0.068762, 0.      , 0.      , 0.      , 0.      ,\n",
       "        0.      , 0.      , 0.      , 0.      , 0.      , 0.      ,\n",
       "        0.      ]),\n",
       " array([1., 0., 0., 0., 0., 0., 0., 0., 0., 0., 0., 0., 0.]),\n",
       " array([1., 0., 0., 0., 0., 0., 0., 0., 0., 0., 0., 0., 0.]),\n",
       " array([1., 0., 0., 0., 0., 0., 0., 0., 0., 0., 0., 0., 0.])]"
      ]
     },
     "execution_count": 101,
     "metadata": {},
     "output_type": "execute_result"
    }
   ],
   "source": []
  },
  {
   "cell_type": "code",
   "execution_count": 114,
   "metadata": {},
   "outputs": [],
   "source": [
    "x = np.array(results['distnet_exp'])[:,1:]"
   ]
  },
  {
   "cell_type": "code",
   "execution_count": 121,
   "metadata": {},
   "outputs": [
    {
     "data": {
      "text/plain": [
       "[<matplotlib.lines.Line2D at 0x7fbee9b62850>]"
      ]
     },
     "execution_count": 121,
     "metadata": {},
     "output_type": "execute_result"
    },
    {
     "data": {
      "image/png": "[encoded data removed]",
      "text/plain": [
       "<matplotlib.figure.Figure at 0x7fbee9c2ad90>"
      ]
     },
     "metadata": {},
     "output_type": "display_data"
    }
   ],
   "source": [
    "plt.plot(x[:,0])"
   ]
  },
  {
   "cell_type": "code",
   "execution_count": 119,
   "metadata": {},
   "outputs": [
    {
     "data": {
      "text/plain": [
       "0.0020055349"
      ]
     },
     "execution_count": 119,
     "metadata": {},
     "output_type": "execute_result"
    }
   ],
   "source": [
    "np.mean(x[:,0])"
   ]
  },
  {
   "cell_type": "code",
   "execution_count": 115,
   "metadata": {},
   "outputs": [
    {
     "data": {
      "text/plain": [
       "array([2.00553490e-03, 2.66310080e-07, 8.43188109e-10, 7.76209151e-11,\n",
       "       2.26660346e-15, 1.10997891e-06, 5.74113168e-09, 7.82765494e-11,\n",
       "       9.16655752e-12, 1.98544420e-13, 1.81885935e-05, 6.79368040e-13])"
      ]
     },
     "execution_count": 115,
     "metadata": {},
     "output_type": "execute_result"
    }
   ],
   "source": [
    "np.mean(x, axis=0)"
   ]
  },
  {
   "cell_type": "code",
   "execution_count": 110,
   "metadata": {},
   "outputs": [
    {
     "data": {
      "text/plain": [
       "array([3.59079216e-03, 2.52060955e-07, 1.31316796e-09, 1.54532955e-10,\n",
       "       3.77513278e-15, 2.17391896e-06, 1.03819817e-08, 6.41141913e-11,\n",
       "       1.83136762e-11, 3.96902316e-13, 3.63319131e-05, 1.35030683e-12])"
      ]
     },
     "execution_count": 110,
     "metadata": {},
     "output_type": "execute_result"
    }
   ],
   "source": [
    "np.std(np.array(results['distnet_exp'])[:,1:], axis=0)"
   ]
  },
  {
   "cell_type": "code",
   "execution_count": 113,
   "metadata": {},
   "outputs": [
    {
     "data": {
      "text/plain": [
       "array([0, 1, 0, 1, 1, 1, 0, 0, 0, 0, 0, 3])"
      ]
     },
     "execution_count": 113,
     "metadata": {},
     "output_type": "execute_result"
    }
   ],
   "source": [
    "np.sum( == 0, axis=0)"
   ]
  },
  {
   "cell_type": "code",
   "execution_count": null,
   "metadata": {},
   "outputs": [],
   "source": []
  },
  {
   "cell_type": "code",
   "execution_count": 73,
   "metadata": {},
   "outputs": [
    {
     "data": {
      "text/plain": [
       "array([0., 0., 0., 0., 0., 0., 0., 0., 0., 0., 0., 0.])"
      ]
     },
     "execution_count": 73,
     "metadata": {},
     "output_type": "execute_result"
    }
   ],
   "source": [
    "results['distnet_relu'][1:]"
   ]
  },
  {
   "cell_type": "code",
   "execution_count": 74,
   "metadata": {},
   "outputs": [
    {
     "data": {
      "text/plain": [
       "array([3.29373920e-03, 5.04680240e-08, 6.19917600e-09, 7.95623081e-09,\n",
       "       1.41265200e-06, 9.35766891e-07, 2.86086857e-07, 6.07792124e-11,\n",
       "       1.51325961e-15, 2.82492830e-21, 3.88436400e-07, 1.35197288e-13])"
      ]
     },
     "execution_count": 74,
     "metadata": {},
     "output_type": "execute_result"
    }
   ],
   "source": [
    "results['cnn_50_relu'][1:]"
   ]
  },
  {
   "cell_type": "code",
   "execution_count": 75,
   "metadata": {},
   "outputs": [
    {
     "data": {
      "text/plain": [
       "array([1.88923221e-03, 3.52005000e-07, 8.84620340e-08, 2.12964752e-05,\n",
       "       1.81252258e-13, 3.86547200e-08, 1.13676736e-06, 6.44438259e-11,\n",
       "       2.27279510e-10, 4.48076234e-16, 2.12064162e-06, 2.51619860e-11])"
      ]
     },
     "execution_count": 75,
     "metadata": {},
     "output_type": "execute_result"
    }
   ],
   "source": [
    "results['cnn_50_exp'][1:]"
   ]
  },
  {
   "cell_type": "code",
   "execution_count": 76,
   "metadata": {},
   "outputs": [
    {
     "data": {
      "text/plain": [
       "array([1.88923221e-03, 3.52005000e-07, 8.84620340e-08, 2.12964752e-05,\n",
       "       1.81252258e-13, 3.86547200e-08, 1.13676736e-06, 6.44438259e-11,\n",
       "       2.27279510e-10, 4.48076234e-16, 2.12064162e-06, 2.51619860e-11])"
      ]
     },
     "execution_count": 76,
     "metadata": {},
     "output_type": "execute_result"
    }
   ],
   "source": [
    "results['cnn_50_exp'][1:]"
   ]
  },
  {
   "cell_type": "code",
   "execution_count": 77,
   "metadata": {},
   "outputs": [
    {
     "data": {
      "text/plain": [
       "array([0.0137524, 0.       , 0.       , 0.       , 0.       , 0.       ,\n",
       "       0.       , 0.       , 0.       , 0.       , 0.       , 0.       ])"
      ]
     },
     "execution_count": 77,
     "metadata": {},
     "output_type": "execute_result"
    }
   ],
   "source": [
    "results['cnn_2_relu'][1:]"
   ]
  },
  {
   "cell_type": "code",
   "execution_count": null,
   "metadata": {},
   "outputs": [],
   "source": []
  },
  {
   "cell_type": "code",
   "execution_count": null,
   "metadata": {},
   "outputs": [],
   "source": []
  },
  {
   "cell_type": "code",
   "execution_count": null,
   "metadata": {},
   "outputs": [],
   "source": []
  },
  {
   "cell_type": "code",
   "execution_count": null,
   "metadata": {},
   "outputs": [],
   "source": []
  },
  {
   "cell_type": "code",
   "execution_count": null,
   "metadata": {},
   "outputs": [],
   "source": []
  },
  {
   "cell_type": "code",
   "execution_count": 138,
   "metadata": {
    "scrolled": true
   },
   "outputs": [],
   "source": [
    "\n",
    "# get the minimum q-value for each motif\n",
    "min_qvalue = np.zeros(12)\n",
    "for i in range(12):\n",
    "    index = np.where(best_match == i)[0]\n",
    "    if len(index) > 0:\n",
    "        min_qvalue[i] = np.min(best_qvalues[index])\n",
    "\n",
    "match_index = np.where(best_qvalues != 1)\n",
    "match_fraction = len(match_index)/30."
   ]
  },
  {
   "cell_type": "code",
   "execution_count": 191,
   "metadata": {},
   "outputs": [
    {
     "name": "stdout",
     "output_type": "stream",
     "text": [
      "[ 0.  1.  2.  4.  5.  7.  8.  9. 10. 11.]\n",
      "match: 1.00\n"
     ]
    }
   ],
   "source": [
    "print(np.unique(filter_matches))\n",
    "print('match: %.2f'%(len(match_index)/30.))\n",
    "print('missed:')\n",
    "missed_index = list(set(range(12)).difference(np.unique(filter_matches)))\n",
    "for i in missed_index:\n",
    "    print(motifnames[i])"
   ]
  },
  {
   "cell_type": "code",
   "execution_count": 204,
   "metadata": {},
   "outputs": [],
   "source": [
    "alues[index])"
   ]
  },
  {
   "cell_type": "code",
   "execution_count": 205,
   "metadata": {},
   "outputs": [
    {
     "data": {
      "text/plain": [
       "array([5.65742e-04, 2.47834e-08, 1.69921e-11, 0.00000e+00, 4.10159e-16,\n",
       "       6.67851e-08, 0.00000e+00, 1.67862e-17, 3.57767e-14, 2.27242e-23,\n",
       "       3.65222e-14, 3.37995e-12])"
      ]
     },
     "execution_count": 205,
     "metadata": {},
     "output_type": "execute_result"
    }
   ],
   "source": [
    "min_qvalue"
   ]
  },
  {
   "cell_type": "code",
   "execution_count": 202,
   "metadata": {},
   "outputs": [
    {
     "data": {
      "text/plain": [
       "11.0"
      ]
     },
     "execution_count": 202,
     "metadata": {},
     "output_type": "execute_result"
    }
   ],
   "source": [
    "np.min(filter_matches[index])"
   ]
  },
  {
   "cell_type": "code",
   "execution_count": 203,
   "metadata": {},
   "outputs": [
    {
     "data": {
      "text/plain": [
       "array([11., 11., 11.])"
      ]
     },
     "execution_count": 203,
     "metadata": {},
     "output_type": "execute_result"
    }
   ],
   "source": [
    "filter_matches[index]"
   ]
  },
  {
   "cell_type": "code",
   "execution_count": null,
   "metadata": {},
   "outputs": [],
   "source": []
  },
  {
   "cell_type": "code",
   "execution_count": null,
   "metadata": {},
   "outputs": [],
   "source": []
  },
  {
   "cell_type": "code",
   "execution_count": null,
   "metadata": {},
   "outputs": [],
   "source": []
  },
  {
   "cell_type": "code",
   "execution_count": null,
   "metadata": {},
   "outputs": [],
   "source": []
  },
  {
   "cell_type": "code",
   "execution_count": 179,
   "metadata": {},
   "outputs": [],
   "source": [
    "best_qvalues = np.ones(30)\n",
    "best_match = np.zeros(30)\n",
    "\n",
    "for name in np.unique(df['#Query ID'].as_matrix()):\n",
    "    filter_index = int(name.split('r')[1])\n",
    "    \n",
    "    # get tomtom hits for filter\n",
    "    subdf = df.loc[df['#Query ID'] == name]\n",
    "    targets = subdf['Target ID'].as_matrix()\n",
    "    \n",
    "    # loop through ground truth motifs\n",
    "    for k, motif in enumerate(motifs): \n",
    "        \n",
    "        # loop through variations of ground truth motif\n",
    "        for motifid in motif: \n",
    "            \n",
    "            # check if there is a match\n",
    "            index = np.where((targets == motifid) ==  True)[0]\n",
    "            if len(index) > 0:\n",
    "                qvalue = subdf['q-value'].as_matrix()[index]\n",
    "                \n",
    "                # check to see if better motif hit, if so, update\n",
    "                if best_qvalues[filter_index] > qvalue:\n",
    "                    best_qvalues[filter_index] = qvalue\n",
    "                    best_match[filter_index] = k "
   ]
  },
  {
   "cell_type": "code",
   "execution_count": 181,
   "metadata": {},
   "outputs": [
    {
     "data": {
      "text/plain": [
       "array([ 0.,  1.,  2.,  4.,  5.,  6.,  7.,  8.,  9., 10., 11.])"
      ]
     },
     "execution_count": 181,
     "metadata": {},
     "output_type": "execute_result"
    }
   ],
   "source": [
    "np.unique(best_match)"
   ]
  },
  {
   "cell_type": "code",
   "execution_count": 173,
   "metadata": {},
   "outputs": [
    {
     "ename": "AttributeError",
     "evalue": "'numpy.ndarray' object has no attribute 'index'",
     "output_type": "error",
     "traceback": [
      "\u001b[0;31m---------------------------------------------------------------------------\u001b[0m",
      "\u001b[0;31mAttributeError\u001b[0m                            Traceback (most recent call last)",
      "\u001b[0;32m<ipython-input-173-9fc5ba7c31ad>\u001b[0m in \u001b[0;36m<module>\u001b[0;34m()\u001b[0m\n\u001b[0;32m----> 1\u001b[0;31m \u001b[0mtargets\u001b[0m\u001b[0;34m.\u001b[0m\u001b[0mindex\u001b[0m\u001b[0;34m(\u001b[0m\u001b[0mmotifid\u001b[0m\u001b[0;34m)\u001b[0m\u001b[0;34m\u001b[0m\u001b[0m\n\u001b[0m",
      "\u001b[0;31mAttributeError\u001b[0m: 'numpy.ndarray' object has no attribute 'index'"
     ]
    }
   ],
   "source": [
    "targets.index(motifid)"
   ]
  },
  {
   "cell_type": "code",
   "execution_count": 170,
   "metadata": {
    "scrolled": true
   },
   "outputs": [
    {
     "data": {
      "text/plain": [
       "array(['MA0496.1', 'MA0495.1', 'MA0117.2', 'MA0659.1', 'MA0501.1',\n",
       "       'MA0842.1', 'MA0591.1'], dtype=object)"
      ]
     },
     "execution_count": 170,
     "metadata": {},
     "output_type": "execute_result"
    }
   ],
   "source": [
    "targets = subdf['Target ID'].as_matrix()\n",
    "targets"
   ]
  },
  {
   "cell_type": "code",
   "execution_count": 164,
   "metadata": {},
   "outputs": [
    {
     "data": {
      "text/plain": [
       "array(['MA0496.1', 'MA0495.1', 'MA0117.2', 'MA0659.1', 'MA0501.1',\n",
       "       'MA0842.1', 'MA0591.1'], dtype=object)"
      ]
     },
     "execution_count": 164,
     "metadata": {},
     "output_type": "execute_result"
    }
   ],
   "source": []
  },
  {
   "cell_type": "code",
   "execution_count": 153,
   "metadata": {},
   "outputs": [
    {
     "data": {
      "text/plain": [
       "'MA0095.2'"
      ]
     },
     "execution_count": 153,
     "metadata": {},
     "output_type": "execute_result"
    }
   ],
   "source": []
  },
  {
   "cell_type": "code",
   "execution_count": null,
   "metadata": {},
   "outputs": [],
   "source": [
    "best_qvalues = np.ones(30)\n",
    "best_match = np.zeros(30)\n",
    "for \n",
    "for k, motif in enumerate(motifs):\n",
    "\n",
    "    qvalues = []\n",
    "    filters = []\n",
    "    for motifid in motif:\n",
    "        subdf = df.loc[df['Target ID'] == motifid]\n",
    "        if len(subdf) > 0:\n",
    "            sub_filter = subdf['#Query ID'].as_matrix()\n",
    "            sub_qvalue = subdf['q-value'].as_matrix()\n",
    "            for i in range(len(sub_qvalue)):\n",
    "                qvalues.append(sub_qvalue[i])\n",
    "                filters.append(int(sub_filter[i].split('r')[1]))\n",
    "    qvalues = np.array(qvalues)\n",
    "    \n",
    "    if len(qvalues) > 0:\n",
    "        for filter_index in np.unique(filters).astype(int):\n",
    "            index = np.where(filters == filter_index)[0].astype(int)\n",
    "            filter_qvalues[filter_index] = np.minimum(filter_qvalues[filter_index], np.min(qvalues[index]))\n",
    "            filter_matches[filter_index] = k \n",
    "    \n",
    "match_index = np.where(filter_qvalues != 1)[0]\n",
    "missed_index = np.where(filter_qvalues == 1)[0]"
   ]
  },
  {
   "cell_type": "code",
   "execution_count": null,
   "metadata": {},
   "outputs": [],
   "source": []
  },
  {
   "cell_type": "code",
   "execution_count": null,
   "metadata": {},
   "outputs": [],
   "source": []
  },
  {
   "cell_type": "code",
   "execution_count": null,
   "metadata": {},
   "outputs": [],
   "source": []
  },
  {
   "cell_type": "code",
   "execution_count": null,
   "metadata": {},
   "outputs": [],
   "source": []
  },
  {
   "cell_type": "code",
   "execution_count": null,
   "metadata": {},
   "outputs": [],
   "source": []
  },
  {
   "cell_type": "code",
   "execution_count": null,
   "metadata": {},
   "outputs": [],
   "source": []
  },
  {
   "cell_type": "code",
   "execution_count": null,
   "metadata": {},
   "outputs": [],
   "source": []
  }
 ],
 "metadata": {
  "kernelspec": {
   "display_name": "Python 2",
   "language": "python",
   "name": "python2"
  },
  "language_info": {
   "codemirror_mode": {
    "name": "ipython",
    "version": 2
   },
   "file_extension": ".py",
   "mimetype": "text/x-python",
   "name": "python",
   "nbconvert_exporter": "python",
   "pygments_lexer": "ipython2",
   "version": "2.7.12"
  }
 },
 "nbformat": 4,
 "nbformat_minor": 2
}
